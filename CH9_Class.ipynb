{
 "cells": [
  {
   "cell_type": "markdown",
   "metadata": {},
   "source": [
    "### 9-1 Restaurant"
   ]
  },
  {
   "cell_type": "code",
   "execution_count": 1,
   "metadata": {},
   "outputs": [],
   "source": [
    "class Restaurant:\n",
    "    def __init__(self, restaurant_name, cuisine_type):\n",
    "        self.restaurant_name = restaurant_name\n",
    "        self.cuisine_type = cuisine_type\n",
    "        \n",
    "    def describe_restaurant(self):\n",
    "        print(f'{self.restaurant_name}: {self.cuisine_type}')\n",
    "    \n",
    "    def open_restaurant(self):\n",
    "        print(f'Restaurant {self.restaurant_name} is open.')"
   ]
  },
  {
   "cell_type": "code",
   "execution_count": 2,
   "metadata": {},
   "outputs": [],
   "source": [
    "restaurant = Restaurant('Panda Express', 'American Chinese Restaurant')"
   ]
  },
  {
   "cell_type": "code",
   "execution_count": 3,
   "metadata": {},
   "outputs": [
    {
     "name": "stdout",
     "output_type": "stream",
     "text": [
      "Panda Express\n",
      "American Chinese Restaurant\n",
      "Panda Express: American Chinese Restaurant\n",
      "Restaurant Panda Express is open.\n"
     ]
    }
   ],
   "source": [
    "print(restaurant.restaurant_name)\n",
    "print(restaurant.cuisine_type)\n",
    "restaurant.describe_restaurant()\n",
    "restaurant.open_restaurant()"
   ]
  },
  {
   "cell_type": "markdown",
   "metadata": {},
   "source": [
    "### 9-2 Three Restaurants"
   ]
  },
  {
   "cell_type": "code",
   "execution_count": 4,
   "metadata": {},
   "outputs": [],
   "source": [
    "chipotle = Restaurant('Chipotle Mexican Grill', 'Tacos and Mission-style Burritos')\n",
    "subway = Restaurant('Subway', 'Sandwich and Salads')\n",
    "kfc = Restaurant('KFC', 'Fried Chicken')"
   ]
  },
  {
   "cell_type": "code",
   "execution_count": 5,
   "metadata": {},
   "outputs": [
    {
     "name": "stdout",
     "output_type": "stream",
     "text": [
      "Chipotle Mexican Grill: Tacos and Mission-style Burritos\n",
      "Subway: Sandwich and Salads\n",
      "KFC: Fried Chicken\n"
     ]
    }
   ],
   "source": [
    "chipotle.describe_restaurant()\n",
    "subway.describe_restaurant()\n",
    "kfc.describe_restaurant()"
   ]
  },
  {
   "cell_type": "markdown",
   "metadata": {},
   "source": [
    "### 9-3 User"
   ]
  },
  {
   "cell_type": "code",
   "execution_count": 6,
   "metadata": {},
   "outputs": [],
   "source": [
    "class User:\n",
    "    def __init__(self, first_name, last_name, gender, race, birthday):\n",
    "        self.first_name = first_name\n",
    "        self.last_name = last_name\n",
    "        self.gender = gender\n",
    "        self.race = race\n",
    "        self.birthday = birthday\n",
    "        \n",
    "    def describe_user(self):\n",
    "        print(f'First Name: {self.first_name}\\nLast Name: {self.last_name}\\nGender: {self.gender}\\nRace: {self.race}\\nBirthday: {self.birthday}')\n",
    "    \n",
    "    def greet_user(self):\n",
    "        print(f'Hi, {self.first_name} {self.last_name}!')"
   ]
  },
  {
   "cell_type": "code",
   "execution_count": 7,
   "metadata": {},
   "outputs": [],
   "source": [
    "user_01 = User('Edwin', 'Windle', 'male', 'Hispanic', '5/15/1987')\n",
    "user_02 = User('Carrie', 'Decker', 'female', 'White', '2/14/1982')"
   ]
  },
  {
   "cell_type": "code",
   "execution_count": 8,
   "metadata": {},
   "outputs": [
    {
     "name": "stdout",
     "output_type": "stream",
     "text": [
      "Hi, Edwin Windle!\n",
      "First Name: Edwin\n",
      "Last Name: Windle\n",
      "Gender: male\n",
      "Race: Hispanic\n",
      "Birthday: 5/15/1987\n"
     ]
    }
   ],
   "source": [
    "user_01.greet_user()\n",
    "user_01.describe_user()"
   ]
  },
  {
   "cell_type": "code",
   "execution_count": 9,
   "metadata": {},
   "outputs": [
    {
     "name": "stdout",
     "output_type": "stream",
     "text": [
      "Hi, Carrie Decker!\n",
      "First Name: Carrie\n",
      "Last Name: Decker\n",
      "Gender: female\n",
      "Race: White\n",
      "Birthday: 2/14/1982\n"
     ]
    }
   ],
   "source": [
    "user_02.greet_user()\n",
    "user_02.describe_user()"
   ]
  },
  {
   "cell_type": "markdown",
   "metadata": {},
   "source": [
    "### 9-4 Number Served"
   ]
  },
  {
   "cell_type": "code",
   "execution_count": 10,
   "metadata": {},
   "outputs": [],
   "source": [
    "class Restaurant:\n",
    "    def __init__(self, restaurant_name, cuisine_type):\n",
    "        self.restaurant_name = restaurant_name\n",
    "        self.cuisine_type = cuisine_type\n",
    "        self.number_served = 0\n",
    "        \n",
    "    def describe_restaurant(self):\n",
    "        print(f'{self.restaurant_name}: {self.cuisine_type}')\n",
    "    \n",
    "    def open_restaurant(self):\n",
    "        print(f'Restaurant {self.restaurant_name} is open.')\n",
    "        \n",
    "    def set_number_served(self, customers):\n",
    "        self.number_served = customers\n",
    "        print(f'Customers Served: {self.number_served}')\n",
    "    \n",
    "    def increment_number_served(self, increment_customers):\n",
    "        self.number_served += increment_customers\n",
    "        print(f'Customers Served: {self.number_served}')"
   ]
  },
  {
   "cell_type": "code",
   "execution_count": 11,
   "metadata": {},
   "outputs": [],
   "source": [
    "restaurant = Restaurant('Panda Express', 'American Chinese Restaurant')"
   ]
  },
  {
   "cell_type": "code",
   "execution_count": 12,
   "metadata": {},
   "outputs": [
    {
     "name": "stdout",
     "output_type": "stream",
     "text": [
      "Customers Served: 20\n"
     ]
    }
   ],
   "source": [
    "restaurant.set_number_served(20)"
   ]
  },
  {
   "cell_type": "code",
   "execution_count": 13,
   "metadata": {},
   "outputs": [
    {
     "name": "stdout",
     "output_type": "stream",
     "text": [
      "Customers Served: 30\n"
     ]
    }
   ],
   "source": [
    "restaurant.increment_number_served(10)"
   ]
  },
  {
   "cell_type": "markdown",
   "metadata": {},
   "source": [
    "### 9-5 Login Attempts"
   ]
  },
  {
   "cell_type": "code",
   "execution_count": 14,
   "metadata": {},
   "outputs": [],
   "source": [
    "class User:\n",
    "    def __init__(self, first_name, last_name, gender, race, birthday):\n",
    "        self.first_name = first_name\n",
    "        self.last_name = last_name\n",
    "        self.gender = gender\n",
    "        self.race = race\n",
    "        self.birthday = birthday\n",
    "        self.login_attempts = 0\n",
    "        \n",
    "    def describe_user(self):\n",
    "        print(f'First Name: {self.first_name}\\nLast Name: {self.last_name}\\nGender: {self.gender}\\nRace: {self.race}\\nBirthday: {self.birthday}')\n",
    "    \n",
    "    def greet_user(self):\n",
    "        print(f'Hi, {self.first_name} {self.last_name}!')\n",
    "        \n",
    "    def increment_login_attempts(self):\n",
    "        self.login_attempts += 1\n",
    "    \n",
    "    def reset_login_attempts(self):\n",
    "        self.login_attempts = 0"
   ]
  },
  {
   "cell_type": "code",
   "execution_count": 15,
   "metadata": {},
   "outputs": [],
   "source": [
    "user_01 = User('Edwin', 'Windle', 'male', 'Hispanic', '5/15/1987')"
   ]
  },
  {
   "cell_type": "code",
   "execution_count": 16,
   "metadata": {},
   "outputs": [
    {
     "name": "stdout",
     "output_type": "stream",
     "text": [
      "Login Attempts: 4\n"
     ]
    }
   ],
   "source": [
    "user_01.increment_login_attempts()\n",
    "user_01.increment_login_attempts()\n",
    "user_01.increment_login_attempts()\n",
    "user_01.increment_login_attempts()\n",
    "print(f'Login Attempts: {user_01.login_attempts}')"
   ]
  },
  {
   "cell_type": "code",
   "execution_count": 17,
   "metadata": {},
   "outputs": [
    {
     "name": "stdout",
     "output_type": "stream",
     "text": [
      "Login Attempts: 0\n"
     ]
    }
   ],
   "source": [
    "user_01.reset_login_attempts()\n",
    "print(f'Login Attempts: {user_01.login_attempts}')"
   ]
  },
  {
   "cell_type": "markdown",
   "metadata": {},
   "source": [
    "### 9-6 Ice Cream Stand"
   ]
  },
  {
   "cell_type": "code",
   "execution_count": 18,
   "metadata": {},
   "outputs": [],
   "source": [
    "class IceCreamStand(Restaurant):\n",
    "    def __init__(self, restaurant_name, cuisine_type, flavors):\n",
    "        super().__init__(restaurant_name, cuisine_type)\n",
    "        self.flavors = flavors\n",
    "    \n",
    "    def display_flavor(self):\n",
    "        print('Flavors:')\n",
    "        for elem in self.flavors:\n",
    "            print(elem)"
   ]
  },
  {
   "cell_type": "code",
   "execution_count": 19,
   "metadata": {},
   "outputs": [],
   "source": [
    "dq = IceCreamStand('DQ', 'Ice Cream', ['Wonder Woman Cookie Collision Blizzard® Cake', 'OREO® BLIZZARD® Cake', 'Chocolate Chip Cookie Dough BLIZZARD® Cake'])"
   ]
  },
  {
   "cell_type": "code",
   "execution_count": 20,
   "metadata": {},
   "outputs": [
    {
     "name": "stdout",
     "output_type": "stream",
     "text": [
      "Flavors:\n",
      "Wonder Woman Cookie Collision Blizzard® Cake\n",
      "OREO® BLIZZARD® Cake\n",
      "Chocolate Chip Cookie Dough BLIZZARD® Cake\n"
     ]
    }
   ],
   "source": [
    "dq.display_flavor()"
   ]
  },
  {
   "cell_type": "markdown",
   "metadata": {},
   "source": [
    "### 9-7 Admin"
   ]
  },
  {
   "cell_type": "code",
   "execution_count": 21,
   "metadata": {},
   "outputs": [],
   "source": [
    "class Admin(User):\n",
    "    def __init__(self, first_name, last_name, gender, race, birthday, privileges):\n",
    "        super().__init__(first_name, last_name, gender, race, birthday)\n",
    "        self.privileges = privileges\n",
    "        \n",
    "    def show_privileges(self):\n",
    "        print('Admin Privileges:')\n",
    "        for elem in self.privileges:\n",
    "            print(elem)"
   ]
  },
  {
   "cell_type": "code",
   "execution_count": 22,
   "metadata": {},
   "outputs": [],
   "source": [
    "privileges = ['can add post', 'can delete post', 'can ban user']\n",
    "admin_01 = Admin('Edwin', 'Windle', 'male', 'Hispanic', '5/15/1987', privileges)"
   ]
  },
  {
   "cell_type": "code",
   "execution_count": 23,
   "metadata": {},
   "outputs": [
    {
     "name": "stdout",
     "output_type": "stream",
     "text": [
      "Admin Privileges:\n",
      "can add post\n",
      "can delete post\n",
      "can ban user\n"
     ]
    }
   ],
   "source": [
    "admin_01.show_privileges()"
   ]
  },
  {
   "cell_type": "markdown",
   "metadata": {},
   "source": [
    "### 9-8 Privileges"
   ]
  },
  {
   "cell_type": "code",
   "execution_count": 24,
   "metadata": {},
   "outputs": [],
   "source": [
    "class Privileges():\n",
    "    def __init__(self):\n",
    "        self.privileges = ['can add post', 'can delete post', 'can ban user']\n",
    "        \n",
    "    def show_privileges(self):\n",
    "        print('Admin Privileges:')\n",
    "        for elem in self.privileges:\n",
    "            print(elem)"
   ]
  },
  {
   "cell_type": "code",
   "execution_count": 25,
   "metadata": {},
   "outputs": [],
   "source": [
    "class Admin(User):\n",
    "    def __init__(self, first_name, last_name, gender, race, birthday):\n",
    "        super().__init__(first_name, last_name, gender, race, birthday)\n",
    "        self.privileges = Privileges()"
   ]
  },
  {
   "cell_type": "code",
   "execution_count": 26,
   "metadata": {},
   "outputs": [],
   "source": [
    "admin_01 = Admin('Edwin', 'Windle', 'male', 'Hispanic', '5/15/1987')"
   ]
  },
  {
   "cell_type": "code",
   "execution_count": 27,
   "metadata": {},
   "outputs": [
    {
     "name": "stdout",
     "output_type": "stream",
     "text": [
      "Admin Privileges:\n",
      "can add post\n",
      "can delete post\n",
      "can ban user\n"
     ]
    }
   ],
   "source": [
    "admin_01.privileges.show_privileges()"
   ]
  },
  {
   "cell_type": "markdown",
   "metadata": {},
   "source": [
    "### 9-9 Battery Upgrade"
   ]
  },
  {
   "cell_type": "code",
   "execution_count": 28,
   "metadata": {},
   "outputs": [],
   "source": [
    "class Battery:\n",
    "    \"\"\"A simple attempt to model a battery for an electric car.\"\"\"\n",
    "    \n",
    "    def __init__(self, battery_size=75):\n",
    "        \"\"\"Initialize the battery's attributes.\"\"\"\n",
    "        self.battery_size = battery_size\n",
    "\n",
    "    def describe_battery(self):\n",
    "        \"\"\"Print a statement describing the battery size.\"\"\"\n",
    "        print(f\"This car has a {self.battery_size}-kWh battery.\")\n",
    "\n",
    "    def get_range(self):\n",
    "        \"\"\"Print a statement about the range this battery provides.\"\"\"\n",
    "        if self.battery_size == 75:\n",
    "            range = 260\n",
    "        elif self.battery_size == 100:\n",
    "            range = 315\n",
    "            \n",
    "        print(f\"This car can go about {range} miles on a full charge.\")\n",
    "    \n",
    "    def upgrade_battery(self):\n",
    "        if self.battery_size < 100:\n",
    "            self.battery_size = 100"
   ]
  },
  {
   "cell_type": "code",
   "execution_count": 29,
   "metadata": {},
   "outputs": [],
   "source": [
    "battery = Battery()"
   ]
  },
  {
   "cell_type": "code",
   "execution_count": 30,
   "metadata": {},
   "outputs": [
    {
     "name": "stdout",
     "output_type": "stream",
     "text": [
      "This car can go about 260 miles on a full charge.\n"
     ]
    }
   ],
   "source": [
    "battery.get_range()"
   ]
  },
  {
   "cell_type": "code",
   "execution_count": 31,
   "metadata": {},
   "outputs": [
    {
     "name": "stdout",
     "output_type": "stream",
     "text": [
      "This car can go about 315 miles on a full charge.\n"
     ]
    }
   ],
   "source": [
    "battery.upgrade_battery()\n",
    "battery.get_range()"
   ]
  },
  {
   "cell_type": "code",
   "execution_count": null,
   "metadata": {},
   "outputs": [],
   "source": []
  },
  {
   "cell_type": "code",
   "execution_count": null,
   "metadata": {},
   "outputs": [],
   "source": []
  }
 ],
 "metadata": {
  "kernelspec": {
   "display_name": "Python 3",
   "language": "python",
   "name": "python3"
  },
  "language_info": {
   "codemirror_mode": {
    "name": "ipython",
    "version": 3
   },
   "file_extension": ".py",
   "mimetype": "text/x-python",
   "name": "python",
   "nbconvert_exporter": "python",
   "pygments_lexer": "ipython3",
   "version": "3.8.3"
  }
 },
 "nbformat": 4,
 "nbformat_minor": 4
}
